{
 "cells": [
  {
   "cell_type": "code",
   "execution_count": 1,
   "id": "6d9e73fa",
   "metadata": {},
   "outputs": [],
   "source": [
    "from cryptography.fernet import Fernet"
   ]
  },
  {
   "cell_type": "code",
   "execution_count": 2,
   "id": "de1d3ab5",
   "metadata": {},
   "outputs": [],
   "source": [
    "key = \"B0-wVqAFlgSQ4Y_KE_vss6fpPAA8TWMbH-_cjjYEvOE=\""
   ]
  },
  {
   "cell_type": "code",
   "execution_count": 3,
   "id": "83c00487",
   "metadata": {},
   "outputs": [],
   "source": [
    "file_path_e = \"C:\\\\Users\\\\lawan\\\\KeyLogger_Info\"\n",
    "extend = \"\\\\\"\n",
    "file_merge_e = file_path_e + extend\n",
    "\n",
    "file_path_d = \"C:\\\\Users\\\\lawan\\\\Cryptography_KeyLogger\"\n",
    "file_merge_d = file_path_d + extend\n",
    "\n",
    "keys_information_e = \"e_key_log.txt\"\n",
    "system_information_e = \"e_system_info.txt\"\n",
    "clipboard_information_e = \"e_clipboard.txt\"\n",
    "\n",
    "keys_information_d = \"d_key_log.txt\"\n",
    "system_information_d = \"d_system_info.txt\"\n",
    "clipboard_information_d = \"d_clipboard.txt\""
   ]
  },
  {
   "cell_type": "code",
   "execution_count": 4,
   "id": "1f6debc5",
   "metadata": {},
   "outputs": [],
   "source": [
    "encrypted_files = [file_merge_e + keys_information_e, file_merge_e + system_information_e, file_merge_e + clipboard_information_e]\n",
    "decrypted_files = [file_merge_d + keys_information_d, file_merge_d + system_information_d, file_merge_d + clipboard_information_d]"
   ]
  },
  {
   "cell_type": "code",
   "execution_count": 5,
   "id": "da1a39f1",
   "metadata": {},
   "outputs": [],
   "source": [
    "count = 0\n",
    "for decrypting_file in encrypted_files:\n",
    "    with open(encrypted_files[count], 'rb') as f:\n",
    "        data = f.read()\n",
    "    fernet = Fernet(key)\n",
    "    dencrypted = fernet.decrypt(data)\n",
    "    with open(decrypted_files[count], 'wb') as f:\n",
    "        f.write(dencrypted)\n",
    "    count += 1"
   ]
  },
  {
   "cell_type": "code",
   "execution_count": null,
   "id": "ed691eb8",
   "metadata": {},
   "outputs": [],
   "source": []
  }
 ],
 "metadata": {
  "kernelspec": {
   "display_name": "Python 3 (ipykernel)",
   "language": "python",
   "name": "python3"
  },
  "language_info": {
   "codemirror_mode": {
    "name": "ipython",
    "version": 3
   },
   "file_extension": ".py",
   "mimetype": "text/x-python",
   "name": "python",
   "nbconvert_exporter": "python",
   "pygments_lexer": "ipython3",
   "version": "3.10.9"
  }
 },
 "nbformat": 4,
 "nbformat_minor": 5
}
